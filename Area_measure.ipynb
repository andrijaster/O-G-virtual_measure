{
 "cells": [
  {
   "cell_type": "code",
   "execution_count": 1,
   "metadata": {},
   "outputs": [],
   "source": [
    "import pandas as pd\n",
    "\n",
    "file_path = r\"C:\\Users\\Andri\\Documents\\GitHub\\O-G-virtual_measure\\data\\Book1.xlsx\"\n",
    "data_1 = pd.read_excel(file_path, sheet_name = \"1\", engine = \"openpyxl\")\n",
    "data_2 = pd.read_excel(file_path, sheet_name = \"2\", engine = \"openpyxl\")"
   ]
  },
  {
   "cell_type": "code",
   "execution_count": 4,
   "metadata": {},
   "outputs": [
    {
     "name": "stdout",
     "output_type": "stream",
     "text": [
      "     graph_id   x   x.1  pointon            datum unosa\n",
      "0     7825370  20  1900        0  9/21/2020 10:45:05 AM\n",
      "1     7825370  20  1920        1  9/21/2020 10:45:05 AM\n",
      "2     7825370  30  1940        2  9/21/2020 10:45:05 AM\n",
      "3     7825370  30  1970        3  9/21/2020 10:45:05 AM\n",
      "4     7825370  40  2000        4  9/21/2020 10:45:05 AM\n",
      "..        ...  ..   ...      ...                    ...\n",
      "276   7825370   0  1820      276  9/21/2020 10:45:19 AM\n",
      "277   7825370   0  1830      277  9/21/2020 10:45:19 AM\n",
      "278   7825370  10  1850      278  9/21/2020 10:45:19 AM\n",
      "279   7825370  10  1870      279  9/21/2020 10:45:19 AM\n",
      "280   7825370  10  1890      280  9/21/2020 10:45:19 AM\n",
      "\n",
      "[281 rows x 5 columns]\n",
      "     graph_id   x   x.1  pointon           datum unosa\n",
      "0     7828730  30  1890        0  9/21/2020 6:29:06 PM\n",
      "1     7828730  30  1910        1  9/21/2020 6:29:06 PM\n",
      "2     7828730  40  1920        2  9/21/2020 6:29:06 PM\n",
      "3     7828730  40  1950        3  9/21/2020 6:29:06 PM\n",
      "4     7828730  50  1980        4  9/21/2020 6:29:06 PM\n",
      "..        ...  ..   ...      ...                   ...\n",
      "277   7828730  10  1830      277  9/21/2020 6:29:14 PM\n",
      "278   7828730  10  1850      278  9/21/2020 6:29:14 PM\n",
      "279   7828730  20  1870      279  9/21/2020 6:29:14 PM\n",
      "280   7828730  20  1880      280  9/21/2020 6:29:14 PM\n",
      "281   7828730  20  1900      281  9/21/2020 6:29:14 PM\n",
      "\n",
      "[282 rows x 5 columns]\n"
     ]
    }
   ],
   "source": [
    "print(data_1)\n",
    "print(data_2)"
   ]
  },
  {
   "cell_type": "code",
   "execution_count": 5,
   "metadata": {},
   "outputs": [
    {
     "name": "stdout",
     "output_type": "stream",
     "text": [
      "0      30\n",
      "1      30\n",
      "2      40\n",
      "3      40\n",
      "4      50\n",
      "       ..\n",
      "277    10\n",
      "278    10\n",
      "279    20\n",
      "280    20\n",
      "281    20\n",
      "Name: x, Length: 282, dtype: int64 0      1890\n",
      "1      1910\n",
      "2      1920\n",
      "3      1950\n",
      "4      1980\n",
      "       ... \n",
      "277    1830\n",
      "278    1850\n",
      "279    1870\n",
      "280    1880\n",
      "281    1900\n",
      "Name: x.1, Length: 282, dtype: int64\n"
     ]
    }
   ],
   "source": [
    "x = data_2[\"x\"]\n",
    "y = data_2[\"x.1\"]\n",
    "print(x,y)"
   ]
  },
  {
   "cell_type": "code",
   "execution_count": 6,
   "metadata": {},
   "outputs": [
    {
     "name": "stdout",
     "output_type": "stream",
     "text": [
      "137    2390\n",
      "138    2400\n",
      "139    2400\n",
      "140    2400\n",
      "141    2400\n",
      "       ... \n",
      "276    1820\n",
      "277    1830\n",
      "278    1850\n",
      "279    1870\n",
      "280    1880\n",
      "Name: x.1, Length: 144, dtype: int64\n",
      "(array([ 69,  80,  90, 101, 122, 132], dtype=int64),)\n",
      "137    1160\n",
      "138    1150\n",
      "139    1150\n",
      "140    1150\n",
      "141    1150\n",
      "       ... \n",
      "276      10\n",
      "277      10\n",
      "278      10\n",
      "279      20\n",
      "280      20\n",
      "Name: x, Length: 144, dtype: int64\n"
     ]
    },
    {
     "data": {
      "text/plain": [
       "[<matplotlib.lines.Line2D at 0x281332b4d68>]"
      ]
     },
     "execution_count": 6,
     "metadata": {},
     "output_type": "execute_result"
    },
    {
     "data": {
      "image/png": "[encoded data removed]",
      "text/plain": [
       "<Figure size 432x288 with 1 Axes>"
      ]
     },
     "metadata": {
      "needs_background": "light"
     },
     "output_type": "display_data"
    }
   ],
   "source": [
    "import matplotlib.pyplot as plt\n",
    "import numpy as np\n",
    "from scipy.signal import argrelextrema\n",
    "\n",
    "plt.plot(x,y)\n",
    "x_min = x[np.argmin(y)]\n",
    "x_max = x[x==max(x)].index.max()\n",
    "# diff = np.diff()\n",
    "# print(diff)\n",
    "\n",
    "print(y[x_max:-1])\n",
    "args = argrelextrema(y[x_max:-1].to_numpy(),np.less)\n",
    "print(args)\n",
    "print(x[x_max:-1])\n",
    "plt.plot(x[x_max:-1].to_numpy()[args], y[x_max:-1].to_numpy()[args],\"r.\")\n",
    "\n",
    "\n",
    "\n",
    "plt.plot([0,x[np.argmin(y)]],[1,1])"
   ]
  },
  {
   "cell_type": "code",
   "execution_count": 32,
   "metadata": {},
   "outputs": [
    {
     "name": "stdout",
     "output_type": "stream",
     "text": [
      "x_max 121    1150\n",
      "122    1150\n",
      "123    1150\n",
      "124    1150\n",
      "125    1150\n",
      "126    1150\n",
      "127    1150\n",
      "128    1150\n",
      "129    1150\n",
      "130    1150\n",
      "131    1150\n",
      "132    1150\n",
      "133    1150\n",
      "134    1150\n",
      "135    1150\n",
      "136    1150\n",
      "137    1150\n",
      "Name: x, dtype: int64 121    2350\n",
      "122    2360\n",
      "123    2360\n",
      "124    2350\n",
      "125    2350\n",
      "126    2340\n",
      "127    2350\n",
      "128    2350\n",
      "129    2330\n",
      "130    2300\n",
      "131    2280\n",
      "132    2280\n",
      "133    2280\n",
      "134    2270\n",
      "135    2270\n",
      "136    2280\n",
      "137    2290\n",
      "Name: x.1, dtype: int64\n"
     ]
    }
   ],
   "source": [
    "# print(x[np.argmax(x)],np.argmax(x))\n",
    "# print(x[np.argmin(x)],np.argmin(x))\n",
    "\n",
    "min_x = np.min(x)\n",
    "max_x = np.max(x)\n",
    "\n",
    "# print(\"x_min\", x[x == min_x], y[x == min_x])\n",
    "print(\"x_max\", x[x == max_x], y[x == max_x])"
   ]
  },
  {
   "cell_type": "code",
   "execution_count": 10,
   "metadata": {},
   "outputs": [
    {
     "name": "stdout",
     "output_type": "stream",
     "text": [
      "Requirement already satisfied: Shapely in c:\\users\\andri\\anaconda3\\lib\\site-packages (1.8.0)\n"
     ]
    },
    {
     "ename": "ModuleNotFoundError",
     "evalue": "No module named 'shapely'",
     "output_type": "error",
     "traceback": [
      "\u001b[1;31m---------------------------------------------------------------------------\u001b[0m",
      "\u001b[1;31mModuleNotFoundError\u001b[0m                       Traceback (most recent call last)",
      "\u001b[1;32m<ipython-input-10-93e719cf3f10>\u001b[0m in \u001b[0;36m<module>\u001b[1;34m\u001b[0m\n\u001b[0;32m      1\u001b[0m \u001b[0mget_ipython\u001b[0m\u001b[1;33m(\u001b[0m\u001b[1;33m)\u001b[0m\u001b[1;33m.\u001b[0m\u001b[0msystem\u001b[0m\u001b[1;33m(\u001b[0m\u001b[1;34m'pip install Shapely'\u001b[0m\u001b[1;33m)\u001b[0m\u001b[1;33m\u001b[0m\u001b[1;33m\u001b[0m\u001b[0m\n\u001b[0;32m      2\u001b[0m \u001b[1;33m\u001b[0m\u001b[0m\n\u001b[1;32m----> 3\u001b[1;33m \u001b[1;32mfrom\u001b[0m \u001b[0mshapely\u001b[0m\u001b[1;33m.\u001b[0m\u001b[0mgeometry\u001b[0m \u001b[1;32mimport\u001b[0m \u001b[0mPolygon\u001b[0m\u001b[1;33m\u001b[0m\u001b[1;33m\u001b[0m\u001b[0m\n\u001b[0m\u001b[0;32m      4\u001b[0m \u001b[0mpolygon\u001b[0m \u001b[1;33m=\u001b[0m \u001b[0mPolygon\u001b[0m\u001b[1;33m(\u001b[0m\u001b[1;33m[\u001b[0m\u001b[1;33m(\u001b[0m\u001b[1;36m0\u001b[0m\u001b[1;33m,\u001b[0m \u001b[1;36m0\u001b[0m\u001b[1;33m)\u001b[0m\u001b[1;33m,\u001b[0m \u001b[1;33m(\u001b[0m\u001b[1;36m1\u001b[0m\u001b[1;33m,\u001b[0m \u001b[1;36m1\u001b[0m\u001b[1;33m)\u001b[0m\u001b[1;33m,\u001b[0m \u001b[1;33m(\u001b[0m\u001b[1;36m1\u001b[0m\u001b[1;33m,\u001b[0m \u001b[1;36m0\u001b[0m\u001b[1;33m)\u001b[0m\u001b[1;33m]\u001b[0m\u001b[1;33m)\u001b[0m\u001b[1;33m\u001b[0m\u001b[1;33m\u001b[0m\u001b[0m\n\u001b[0;32m      5\u001b[0m \u001b[0mpolygon\u001b[0m\u001b[1;33m.\u001b[0m\u001b[0marea\u001b[0m\u001b[1;33m\u001b[0m\u001b[1;33m\u001b[0m\u001b[0m\n",
      "\u001b[1;31mModuleNotFoundError\u001b[0m: No module named 'shapely'"
     ]
    }
   ],
   "source": [
    "\n",
    "from shapely.geometry import Polygon\n",
    "polygon = Polygon([(0, 0), (1, 1), (1, 0)])\n",
    "polygon.area"
   ]
  },
  {
   "cell_type": "code",
   "execution_count": null,
   "metadata": {},
   "outputs": [],
   "source": []
  }
 ],
 "metadata": {
  "interpreter": {
   "hash": "9956369ab3d3b1a69cde8666de6635de45059a52906e22a2ac08074a353f319e"
  },
  "kernelspec": {
   "display_name": "Python 3.6.10 64-bit ('opencv': conda)",
   "name": "python3"
  },
  "language_info": {
   "codemirror_mode": {
    "name": "ipython",
    "version": 3
   },
   "file_extension": ".py",
   "mimetype": "text/x-python",
   "name": "python",
   "nbconvert_exporter": "python",
   "pygments_lexer": "ipython3",
   "version": "3.6.10"
  },
  "orig_nbformat": 4
 },
 "nbformat": 4,
 "nbformat_minor": 2
}
